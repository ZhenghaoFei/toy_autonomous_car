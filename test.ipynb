{
 "cells": [
  {
   "cell_type": "code",
   "execution_count": 2,
   "metadata": {
    "collapsed": false
   },
   "outputs": [
    {
     "name": "stdout",
     "output_type": "stream",
     "text": [
      "run the following from the cs231n directory and try again:\n",
      "python setup.py build_ext --inplace\n",
      "You may also need to restart your iPython kernel\n"
     ]
    }
   ],
   "source": [
    "import numpy as np\n",
    "from game_nn import *\n",
    "from matrix_simulator import *\n",
    "\n",
    "\n"
   ]
  },
  {
   "cell_type": "code",
   "execution_count": 11,
   "metadata": {
    "collapsed": false
   },
   "outputs": [
    {
     "name": "stdout",
     "output_type": "stream",
     "text": [
      "[array([ 0.28876329,  0.4584036 ,  0.13428988]), array([ 0.89224286,  0.11065223,  0.22350344]), array([ 0.34877087,  0.83976533,  0.37036315]), array([ 0.48450231,  0.7382216 ,  0.47107706]), array([ 0.6464188 ,  0.52341872,  0.63311281]), array([ 0.27063271,  0.85593099,  0.89921318]), array([ 0.20593646,  0.66722874,  0.04220241]), array([ 0.54096469,  0.82419214,  0.34871107]), array([ 0.0639095 ,  0.34037505,  0.38521417]), array([ 0.58710022,  0.31414139,  0.36234893])]\n",
      "[[ 0.28876329  0.4584036   0.13428988]\n",
      " [ 0.89224286  0.11065223  0.22350344]\n",
      " [ 0.34877087  0.83976533  0.37036315]\n",
      " [ 0.48450231  0.7382216   0.47107706]\n",
      " [ 0.6464188   0.52341872  0.63311281]\n",
      " [ 0.27063271  0.85593099  0.89921318]\n",
      " [ 0.20593646  0.66722874  0.04220241]\n",
      " [ 0.54096469  0.82419214  0.34871107]\n",
      " [ 0.0639095   0.34037505  0.38521417]\n",
      " [ 0.58710022  0.31414139  0.36234893]]\n"
     ]
    }
   ],
   "source": [
    "a = []\n",
    "for i in range(10):\n",
    "    a.append(np.random.rand(3))\n",
    "print a\n",
    "b = np.vstack(a)\n",
    "print b"
   ]
  },
  {
   "cell_type": "code",
   "execution_count": 7,
   "metadata": {
    "collapsed": false
   },
   "outputs": [
    {
     "name": "stdout",
     "output_type": "stream",
     "text": [
      "[[ 1.  1.  1.  1.  1.  1.  1.  1.  1.  1.  1.  1.]\n",
      " [ 1.  0.  0.  0.  0.  0.  0.  1.  0.  1.  0.  1.]\n",
      " [ 1.  0.  0.  0.  1.  0.  0.  0.  0.  0.  0.  1.]\n",
      " [ 1.  1.  0.  1.  1.  0.  0.  0.  0.  2.  1.  1.]\n",
      " [ 1.  0.  1.  1.  0.  0.  0.  1.  0.  0.  0.  1.]\n",
      " [ 1.  1.  0.  1.  0.  1.  0.  1.  1.  0.  1.  1.]\n",
      " [ 1.  0.  0.  0.  0.  1.  0.  0.  3.  0.  0.  1.]\n",
      " [ 1.  1.  0.  0.  1.  0.  0.  0.  0.  0.  0.  1.]\n",
      " [ 1.  0.  0.  1.  0.  1.  0.  0.  0.  0.  0.  1.]\n",
      " [ 1.  0.  0.  0.  0.  0.  0.  1.  1.  0.  1.  1.]\n",
      " [ 1.  0.  1.  0.  0.  0.  1.  0.  1.  0.  0.  1.]\n",
      " [ 1.  1.  1.  1.  1.  1.  1.  1.  1.  1.  1.  1.]]\n"
     ]
    }
   ],
   "source": [
    "step = 0\n",
    "goal_distance = 10000\n",
    "car_location_save =[]\n",
    "action = 2\n",
    "car_location, feedback, env = simulator(map_matrix, initial_car_location, goal_location, goal_distance, step)\n",
    "print env"
   ]
  },
  {
   "cell_type": "code",
   "execution_count": 8,
   "metadata": {
    "collapsed": false
   },
   "outputs": [
    {
     "name": "stdout",
     "output_type": "stream",
     "text": [
      "goal_distance:  3.0\n",
      "step:  1\n",
      "[[ 1.  1.  1.  1.  1.  1.  1.  1.  1.  1.  1.  1.]\n",
      " [ 1.  0.  0.  0.  0.  0.  0.  1.  0.  1.  0.  1.]\n",
      " [ 1.  0.  0.  0.  1.  0.  0.  0.  0.  0.  0.  1.]\n",
      " [ 1.  1.  0.  1.  1.  0.  0.  0.  0.  2.  1.  1.]\n",
      " [ 1.  0.  1.  1.  0.  0.  0.  1.  0.  0.  0.  1.]\n",
      " [ 1.  1.  0.  1.  0.  1.  0.  1.  1.  0.  1.  1.]\n",
      " [ 1.  0.  0.  0.  0.  1.  0.  0.  0.  3.  0.  1.]\n",
      " [ 1.  1.  0.  0.  1.  0.  0.  0.  0.  0.  0.  1.]\n",
      " [ 1.  0.  0.  1.  0.  1.  0.  0.  0.  0.  0.  1.]\n",
      " [ 1.  0.  0.  0.  0.  0.  0.  1.  1.  0.  1.  1.]\n",
      " [ 1.  0.  1.  0.  0.  0.  1.  0.  1.  0.  0.  1.]\n",
      " [ 1.  1.  1.  1.  1.  1.  1.  1.  1.  1.  1.  1.]]\n"
     ]
    }
   ],
   "source": [
    "action = 2\n",
    "car_location, feedback, env, _, step, _ = simulator(map_matrix, initial_car_location, goal_location, goal_distance, step, car_location=car_location, action=action)\n",
    "print env"
   ]
  },
  {
   "cell_type": "code",
   "execution_count": 13,
   "metadata": {
    "collapsed": false
   },
   "outputs": [
    {
     "name": "stdout",
     "output_type": "stream",
     "text": [
      "goal_distance:  0.0\n",
      "step:  6\n",
      "congratulations! You arrive destination\n",
      "[[ 1.  1.  1.  1.  1.  1.  1.  1.  1.  1.  1.  1.]\n",
      " [ 1.  0.  0.  0.  0.  0.  0.  1.  0.  1.  0.  1.]\n",
      " [ 1.  0.  0.  0.  1.  0.  0.  0.  0.  0.  0.  1.]\n",
      " [ 1.  1.  0.  1.  1.  0.  0.  0.  0.  3.  1.  1.]\n",
      " [ 1.  0.  1.  1.  0.  0.  0.  1.  0.  0.  0.  1.]\n",
      " [ 1.  1.  0.  1.  0.  1.  0.  1.  1.  0.  1.  1.]\n",
      " [ 1.  0.  0.  0.  0.  1.  0.  0.  0.  0.  0.  1.]\n",
      " [ 1.  1.  0.  0.  1.  0.  0.  0.  0.  0.  0.  1.]\n",
      " [ 1.  0.  0.  1.  0.  1.  0.  0.  0.  0.  0.  1.]\n",
      " [ 1.  0.  0.  0.  0.  0.  0.  1.  1.  0.  1.  1.]\n",
      " [ 1.  0.  1.  0.  0.  0.  1.  0.  1.  0.  0.  1.]\n",
      " [ 1.  1.  1.  1.  1.  1.  1.  1.  1.  1.  1.  1.]]\n"
     ]
    }
   ],
   "source": [
    "action = 0\n",
    "car_location, feedback, env, _, step, _ = simulator(map_matrix, initial_car_location, goal_location, goal_distance, step, car_location=car_location, action=action)\n",
    "print env"
   ]
  },
  {
   "cell_type": "code",
   "execution_count": 50,
   "metadata": {
    "collapsed": false
   },
   "outputs": [
    {
     "data": {
      "text/plain": [
       "<matplotlib.image.AxesImage at 0xc3037b8>"
      ]
     },
     "execution_count": 50,
     "metadata": {},
     "output_type": "execute_result"
    },
    {
     "data": {
      "image/png": "[encoded data removed]",
      "text/plain": [
       "<matplotlib.figure.Figure at 0xc3b9c50>"
      ]
     },
     "metadata": {},
     "output_type": "display_data"
    }
   ],
   "source": [
    "plt.imshow(map_sketch, interpolation='none')"
   ]
  },
  {
   "cell_type": "code",
   "execution_count": null,
   "metadata": {
    "collapsed": true
   },
   "outputs": [],
   "source": []
  }
 ],
 "metadata": {
  "anaconda-cloud": {},
  "kernelspec": {
   "display_name": "Python [conda root]",
   "language": "python",
   "name": "conda-root-py"
  },
  "language_info": {
   "codemirror_mode": {
    "name": "ipython",
    "version": 2
   },
   "file_extension": ".py",
   "mimetype": "text/x-python",
   "name": "python",
   "nbconvert_exporter": "python",
   "pygments_lexer": "ipython2",
   "version": "2.7.12"
  }
 },
 "nbformat": 4,
 "nbformat_minor": 1
}
