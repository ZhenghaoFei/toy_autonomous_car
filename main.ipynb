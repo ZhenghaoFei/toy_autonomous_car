{
 "cells": [
  {
   "cell_type": "code",
   "execution_count": 5,
   "metadata": {
    "collapsed": false
   },
   "outputs": [],
   "source": [
    "import numpy as np\n",
    "import matplotlib.pyplot as plt\n",
    "from cs231n.layers import *\n",
    "from cs231n.fast_layers import *\n",
    "from game_nn import *\n",
    "from cs231n import optim\n",
    "import numpy as np\n",
    "import cPickle as pickle"
   ]
  },
  {
   "cell_type": "code",
   "execution_count": 21,
   "metadata": {
    "collapsed": true
   },
   "outputs": [],
   "source": [
    "# hyperparameters\n",
    "H = 200 # number of hidden layer neurons\n",
    "batch_size = 1 # every how many episodes to do a param update?\n",
    "learning_rate = 1e-4\n",
    "gamma = 0.99 # discount factor for reward\n",
    "decay_rate = 0.99 # decay factor for RMSProp leaky sum of grad^2\n",
    "resume = False # resume from previous checkpoint?\n",
    "render = False\n",
    "\n",
    "# model initialization\n",
    "D = 80 * 80 # input dimensionality: 80x80 grid\n",
    "if resume:\n",
    "    model = pickle.load(open('save.p', 'rb'))\n",
    "else:\n",
    "    model = {}\n",
    "    model['W1'] = np.random.randn(H,D) / np.sqrt(D) # \"Xavier\" initialization\n",
    "    model['W2'] = np.random.randn(H,4) / np.sqrt(H)"
   ]
  },
  {
   "cell_type": "code",
   "execution_count": 22,
   "metadata": {
    "collapsed": true
   },
   "outputs": [],
   "source": [
    "def simulator(action=None):\n",
    "    env = np.random.rand(80, 80)\n",
    "    feedback = np.array([0, 0, 0, 0])\n",
    "    return env, feedback "
   ]
  },
  {
   "cell_type": "code",
   "execution_count": 23,
   "metadata": {
    "collapsed": true
   },
   "outputs": [],
   "source": [
    "def sigmoid(x): \n",
    "    return 1.0 / (1.0 + np.exp(-x)) # sigmoid \"squashing\" function to interval [0,1]"
   ]
  },
  {
   "cell_type": "code",
   "execution_count": 24,
   "metadata": {
    "collapsed": true
   },
   "outputs": [],
   "source": [
    "def softmax(x):\n",
    "    #compute log propbality\n",
    "    probs = np.exp(x - np.max(x, axis=1, keepdims=True))\n",
    "    probs /= np.sum(probs, axis=1, keepdims=True)\n",
    "    return probs"
   ]
  },
  {
   "cell_type": "code",
   "execution_count": 59,
   "metadata": {
    "collapsed": true
   },
   "outputs": [],
   "source": [
    "def policy_forward(env):\n",
    "    env = env.ravel()\n",
    "    env = env.reshape(-1,1)\n",
    "    h = np.dot(model['W1'], env) #should be 200 * 1\n",
    "    h[h<0] = 0 # ReLU nonlinearity\n",
    "    action_score = np.dot(h.T, model['W2']) # should be (1 , 4)\n",
    "    action = np.argmax(action_score)\n",
    "    return action, h, env # return action, and hidden state\n",
    "\n",
    "# reward should be a vector e.g [0, 0, 1, 0]\n",
    "def policy_backward(h_cache, env_cache, feedback):\n",
    "    \"\"\" backward pass. (h_cache is array of intermediate hidden states) \"\"\"\n",
    "    feedback = feedback.reshape(1,-1)\n",
    "    dW2 = np.dot(h_cache, feedback) # 200 * 4\n",
    "#     dh = np.outer(reward, model['W2'])\n",
    "    dh = np.dot(model['W2'], feedback.T) # 200 * 1\n",
    "    dh[h_cache <= 0] = 0 # backpro prelu\n",
    "    #epx ex input (D*D, 1)\n",
    "    dW1 = np.dot(dh, env_cache.T)\n",
    "    return {'W1':dW1, 'W2':dW2}"
   ]
  },
  {
   "cell_type": "code",
   "execution_count": 60,
   "metadata": {
    "collapsed": true
   },
   "outputs": [],
   "source": [
    "# perform sgd parameter update \n",
    "def sgd_update(model, gradient, learning_rate):\n",
    "    for k,v in model.iteritems():\n",
    "        model[k] += learning_rate * gradient[k]\n"
   ]
  },
  {
   "cell_type": "code",
   "execution_count": 62,
   "metadata": {
    "collapsed": false
   },
   "outputs": [],
   "source": [
    "# training process\n",
    "def train_game_nn(model, learning_rate, max_iter = 10):\n",
    "    env, _ = simulator() # initial env\n",
    "    for i in range(max_iter):\n",
    "        action, h_cache, env_cache =policy_forward(env)\n",
    "        env, feedback = simulator(action)\n",
    "        gradient = policy_backward(h_cache, env_cache, feedback)\n",
    "        sgd_update(model, gradient, learning_rate)\n",
    "\n"
   ]
  },
  {
   "cell_type": "code",
   "execution_count": 63,
   "metadata": {
    "collapsed": true
   },
   "outputs": [],
   "source": [
    "train_game_nn(model, learning_rate)"
   ]
  },
  {
   "cell_type": "code",
   "execution_count": null,
   "metadata": {
    "collapsed": true
   },
   "outputs": [],
   "source": []
  }
 ],
 "metadata": {
  "anaconda-cloud": {},
  "kernelspec": {
   "display_name": "Python [default]",
   "language": "python",
   "name": "python2"
  },
  "language_info": {
   "codemirror_mode": {
    "name": "ipython",
    "version": 2
   },
   "file_extension": ".py",
   "mimetype": "text/x-python",
   "name": "python",
   "nbconvert_exporter": "python",
   "pygments_lexer": "ipython2",
   "version": "2.7.12"
  }
 },
 "nbformat": 4,
 "nbformat_minor": 0
}
