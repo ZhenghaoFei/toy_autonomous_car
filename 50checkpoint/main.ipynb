{
 "cells": [
  {
   "cell_type": "code",
   "execution_count": 61,
   "metadata": {
    "collapsed": false
   },
   "outputs": [
    {
     "name": "stdout",
     "output_type": "stream",
     "text": [
      "The autoreload extension is already loaded. To reload it, use:\n",
      "  %reload_ext autoreload\n"
     ]
    }
   ],
   "source": [
    "import numpy as np\n",
    "import matplotlib.pyplot as plt\n",
    "from matrix_simulator import *\n",
    "from game_nn import *\n",
    "%load_ext autoreload\n",
    "%autoreload 2\n"
   ]
  },
  {
   "cell_type": "code",
   "execution_count": 62,
   "metadata": {
    "collapsed": false
   },
   "outputs": [],
   "source": [
    "# hyperparameters\n",
    "H = 200 # number of hidden layer neurons\n",
    "batch_size = 1 # every how many episodes to do a param update?\n",
    "gamma = 0.99 # discount factor for reward\n",
    "decay_rate = 0.99 # decay factor for RMSProp leaky sum of grad^2\n",
    "resume = False # resume from previous checkpoint?\n",
    "\n",
    "# model initialization\n",
    "D = 7 * 7 # input dimensionality: 80x80 grid\n",
    "if resume:\n",
    "    model = load_model()\n",
    "else:\n",
    "    model = {}\n",
    "    model['W1'] = np.random.randn(H,D) / np.sqrt(D) # \"Xavier\" initialization\n",
    "    model['W2'] = np.random.randn(H,4) / np.sqrt(H)"
   ]
  },
  {
   "cell_type": "code",
   "execution_count": 63,
   "metadata": {
    "collapsed": false
   },
   "outputs": [],
   "source": [
    "map_matrix = np.array\\\n",
    "     ([[ 1.,  1.,  1.,  1.,  1.,  1.,  1.,  0.,  0.,  0.],\n",
    "       [ 1.,  0.,  0.,  0.,  0.,  0.,  1.,  0.,  0.,  0.],\n",
    "       [ 1.,  0.,  0.,  0.,  0.,  0.,  1.,  0.,  0.,  0.],\n",
    "       [ 1.,  1.,  1.,  1.,  0.,  0.,  1.,  0.,  0.,  0.],\n",
    "       [ 0.,  0.,  0.,  1.,  0.,  0.,  1.,  0.,  0.,  0.],\n",
    "       [ 0.,  0.,  0.,  1.,  0.,  0.,  1.,  0.,  0.,  0.],\n",
    "       [ 0.,  0.,  0.,  1.,  0.,  0.,  1.,  1.,  1.,  1.],\n",
    "       [ 0.,  0.,  0.,  1.,  0.,  0.,  0.,  0.,  0.,  2.],\n",
    "       [ 0.,  0.,  0.,  1.,  1,  1.,  1.,  1.,  1.,  1.],\n",
    "       [ 0.,  0.,  0.,  0.,  0.,  0.,  0.,  0.,  0.,  0.]])\n",
    "\n",
    "initial_car_location = 1, 1 # initial car location x and y"
   ]
  },
  {
   "cell_type": "code",
   "execution_count": 65,
   "metadata": {
    "collapsed": false
   },
   "outputs": [
    {
     "name": "stdout",
     "output_type": "stream",
     "text": [
      "up\n",
      "collision\n",
      "up\n",
      "collision\n",
      "up\n",
      "collision\n",
      "up\n",
      "collision\n",
      "up\n",
      "collision\n",
      "up\n",
      "collision\n",
      "up\n",
      "collision\n",
      "up\n",
      "collision\n",
      "up\n",
      "collision\n",
      "up\n",
      "collision\n",
      "up\n",
      "collision\n",
      "up\n",
      "collision\n",
      "up\n",
      "collision\n",
      "up\n",
      "collision\n",
      "up\n",
      "collision\n",
      "up\n",
      "collision\n",
      "up\n",
      "collision\n",
      "up\n",
      "collision\n",
      "up\n",
      "collision\n",
      "up\n",
      "collision\n",
      "up\n",
      "collision\n",
      "up\n",
      "collision\n",
      "up\n",
      "collision\n",
      "up\n",
      "collision\n",
      "right\n",
      "up\n",
      "collision\n",
      "up\n",
      "collision\n",
      "right\n",
      "up\n",
      "collision\n",
      "up\n",
      "collision\n",
      "right\n",
      "up\n",
      "collision\n",
      "up\n",
      "collision\n",
      "right\n",
      "up\n",
      "collision\n",
      "up\n",
      "collision\n",
      "right\n",
      "up\n",
      "collision\n",
      "up\n",
      "collision\n",
      "right\n",
      "up\n",
      "collision\n",
      "right\n",
      "up\n",
      "collision\n",
      "right\n",
      "up\n",
      "collision\n",
      "right\n",
      "up\n",
      "collision\n",
      "right\n",
      "up\n",
      "collision\n",
      "right\n",
      "up\n",
      "collision\n",
      "right\n",
      "up\n",
      "collision\n",
      "right\n",
      "right\n",
      "left\n",
      "right\n",
      "left\n",
      "right\n",
      "left\n",
      "right\n",
      "left\n",
      "right\n",
      "left\n",
      "right\n",
      "left\n",
      "right\n",
      "left\n",
      "right\n",
      "left\n",
      "right\n",
      "left\n",
      "right\n",
      "left\n",
      "right\n",
      "left\n",
      "right\n",
      "left\n",
      "right\n",
      "left\n",
      "right\n",
      "left\n",
      "right\n",
      "left\n",
      "right\n",
      "left\n",
      "right\n",
      "left\n",
      "right\n",
      "left\n",
      "right\n",
      "left\n",
      "right\n",
      "left\n",
      "right\n",
      "left\n",
      "right\n",
      "left\n",
      "right\n",
      "left\n"
     ]
    }
   ],
   "source": [
    "learning_rate = 1e-4\n",
    "\n",
    "car_location_save = train_game_nn(model, map_matrix, initial_car_location,  learning_rate,max_iter=100)"
   ]
  },
  {
   "cell_type": "code",
   "execution_count": 66,
   "metadata": {
    "collapsed": false
   },
   "outputs": [],
   "source": [
    "save_model(model)"
   ]
  },
  {
   "cell_type": "code",
   "execution_count": null,
   "metadata": {
    "collapsed": true
   },
   "outputs": [],
   "source": []
  },
  {
   "cell_type": "code",
   "execution_count": null,
   "metadata": {
    "collapsed": true
   },
   "outputs": [],
   "source": []
  },
  {
   "cell_type": "code",
   "execution_count": null,
   "metadata": {
    "collapsed": true
   },
   "outputs": [],
   "source": []
  },
  {
   "cell_type": "code",
   "execution_count": null,
   "metadata": {
    "collapsed": true
   },
   "outputs": [],
   "source": []
  },
  {
   "cell_type": "code",
   "execution_count": null,
   "metadata": {
    "collapsed": true
   },
   "outputs": [],
   "source": []
  },
  {
   "cell_type": "code",
   "execution_count": null,
   "metadata": {
    "collapsed": true
   },
   "outputs": [],
   "source": []
  }
 ],
 "metadata": {
  "anaconda-cloud": {},
  "kernelspec": {
   "display_name": "Python [conda root]",
   "language": "python",
   "name": "conda-root-py"
  },
  "language_info": {
   "codemirror_mode": {
    "name": "ipython",
    "version": 2
   },
   "file_extension": ".py",
   "mimetype": "text/x-python",
   "name": "python",
   "nbconvert_exporter": "python",
   "pygments_lexer": "ipython2",
   "version": "2.7.12"
  }
 },
 "nbformat": 4,
 "nbformat_minor": 0
}
